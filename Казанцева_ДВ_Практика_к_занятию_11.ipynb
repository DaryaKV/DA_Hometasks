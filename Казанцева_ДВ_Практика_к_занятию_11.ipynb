{
  "cells": [
    {
      "cell_type": "markdown",
      "metadata": {
        "id": "view-in-github",
        "colab_type": "text"
      },
      "source": [
        "<a href=\"https://colab.research.google.com/github/DaryaKV/DA_Python_Hometasks/blob/main/%D0%9A%D0%B0%D0%B7%D0%B0%D0%BD%D1%86%D0%B5%D0%B2%D0%B0_%D0%94%D0%92_%D0%9F%D1%80%D0%B0%D0%BA%D1%82%D0%B8%D0%BA%D0%B0_%D0%BA_%D0%B7%D0%B0%D0%BD%D1%8F%D1%82%D0%B8%D1%8E_11.ipynb\" target=\"_parent\"><img src=\"https://colab.research.google.com/assets/colab-badge.svg\" alt=\"Open In Colab\"/></a>"
      ]
    },
    {
      "cell_type": "markdown",
      "metadata": {
        "id": "pDrecLU-4QjS"
      },
      "source": [
        "# Практика"
      ]
    },
    {
      "cell_type": "markdown",
      "source": [
        "**Казанцева Дарья_школа DA**"
      ],
      "metadata": {
        "id": "_G0P-MyFehUF"
      }
    },
    {
      "cell_type": "markdown",
      "metadata": {
        "id": "gUvTNDlMaV-a"
      },
      "source": [
        "## Определение вероятности. События\n",
        "\n",
        "Требуется сгенерировать необходимые выборки и произвести по ним расчеты"
      ]
    },
    {
      "cell_type": "code",
      "source": [
        "import numpy as np\n",
        "import scipy.stats as sts\n",
        "import matplotlib.pyplot as plt\n",
        "import pandas as pd\n",
        "import random"
      ],
      "metadata": {
        "id": "LTQSxHRYrwhY"
      },
      "execution_count": 86,
      "outputs": []
    },
    {
      "cell_type": "markdown",
      "metadata": {
        "id": "5V70InEBTgup"
      },
      "source": [
        "### Задача 1\n",
        "Брошено две монеты. Найти вероятность того, что монеты выпали разными сторонами\n",
        "\n",
        "_Ответ: 0.5_"
      ]
    },
    {
      "cell_type": "code",
      "execution_count": null,
      "metadata": {
        "id": "88Iw-SL3jYQV"
      },
      "outputs": [],
      "source": [
        "'''Требуемый результат может быть получен двумя путями: 1. первая монета - решка, вторая - орёл; 2. первая - орёл, вторая - решка.\n",
        "Также может выпасть на обеих монетах решка или орёл. 2 варианта удовлетворяют нашему условию, всего вариантов 4. 2/4 = 0.5'''"
      ]
    },
    {
      "cell_type": "code",
      "source": [
        "elements = np.array(['heads','tails'])\n",
        "probabilities = [0.5, 0.5]\n",
        "\n",
        "first_coin = np.random.choice(elements, 10000, p=probabilities)\n",
        "second_coin = np.random.choice(elements, 10000, p=probabilities)"
      ],
      "metadata": {
        "id": "BaTakYhRsWTu"
      },
      "execution_count": 87,
      "outputs": []
    },
    {
      "cell_type": "code",
      "source": [
        "result = 0\n",
        "total = 0\n",
        "for i in first_coin:\n",
        "  if i == second_coin[0]:\n",
        "    pass\n",
        "  else:\n",
        "    result += 1\n",
        "  total += 1"
      ],
      "metadata": {
        "id": "s88TWN6WxoV1"
      },
      "execution_count": 88,
      "outputs": []
    },
    {
      "cell_type": "code",
      "source": [
        "total"
      ],
      "metadata": {
        "colab": {
          "base_uri": "https://localhost:8080/"
        },
        "id": "1spCEGai0f6a",
        "outputId": "41a72629-a2ba-4b8d-9520-17fe735f56b4"
      },
      "execution_count": 89,
      "outputs": [
        {
          "output_type": "execute_result",
          "data": {
            "text/plain": [
              "10000"
            ]
          },
          "metadata": {},
          "execution_count": 89
        }
      ]
    },
    {
      "cell_type": "code",
      "source": [
        "result"
      ],
      "metadata": {
        "colab": {
          "base_uri": "https://localhost:8080/"
        },
        "id": "Fggih-800XBW",
        "outputId": "2b23bfbe-da9c-4592-a274-e6d3e79ac299"
      },
      "execution_count": 90,
      "outputs": [
        {
          "output_type": "execute_result",
          "data": {
            "text/plain": [
              "5056"
            ]
          },
          "metadata": {},
          "execution_count": 90
        }
      ]
    },
    {
      "cell_type": "code",
      "source": [
        "print(f'Вероятность того, что две подброшенные монеты выпадут разными сторонами составляет {result/total}')"
      ],
      "metadata": {
        "colab": {
          "base_uri": "https://localhost:8080/"
        },
        "id": "OyqHxFEW0qSu",
        "outputId": "33837cd2-6870-4351-f8b8-187cf5d180bc"
      },
      "execution_count": 91,
      "outputs": [
        {
          "output_type": "stream",
          "name": "stdout",
          "text": [
            "Вероятность того, что две подброшенные монеты выпадут разными сторонами составляет 0.5056\n"
          ]
        }
      ]
    },
    {
      "cell_type": "markdown",
      "metadata": {
        "id": "t0XOMos2Tl0e"
      },
      "source": [
        "### Задача 2\n",
        "Брошено три монеты. Описать множество всех элементарных событий. Найти вероятности следующих событий:\n",
        "\n",
        "\n",
        "1.   A = {не выпало ни одного герба}\n",
        "2.   B = {выпало четное число гербов}\n",
        "3.   C = {на третьей монете выпал герб}\n",
        "\n",
        "_Ответы:  0.125, 0.375, 0.5_"
      ]
    },
    {
      "cell_type": "code",
      "source": [
        "''' Элементарные события эксперимента:\n",
        "1. РРР\n",
        "2. ООО\n",
        "3. РОО\n",
        "4. ОРО\n",
        "5. ООР\n",
        "6. РОР\n",
        "7. ОРР\n",
        "8. РРО\n",
        "Итого у эксперимента 8 возможных исходов'''"
      ],
      "metadata": {
        "id": "aB_kOYnX6drf"
      },
      "execution_count": null,
      "outputs": []
    },
    {
      "cell_type": "code",
      "execution_count": 105,
      "metadata": {
        "id": "o7NjAE9uUo-L"
      },
      "outputs": [],
      "source": [
        "elements = np.array(['heads','tails'])\n",
        "probabilities = [0.5, 0.5]\n",
        "\n",
        "first_coin = np.random.choice(elements, 10000, p=probabilities)\n",
        "second_coin = np.random.choice(elements, 10000, p=probabilities)\n",
        "third_coin = np.random.choice(elements, 10000, p=probabilities)"
      ]
    },
    {
      "cell_type": "code",
      "source": [
        "#А - не выпало ни одного герба - 1/8\n",
        "result = 0\n",
        "total = 0\n",
        "for a in first_coin:\n",
        "  if a == 'tails' and second_coin[total] == 'tails' and third_coin[total] == 'tails':\n",
        "    result += 1\n",
        "  total += 1"
      ],
      "metadata": {
        "id": "35QaEz3_7NOg"
      },
      "execution_count": 104,
      "outputs": []
    },
    {
      "cell_type": "code",
      "source": [
        "print(f'Вероятность того, что при броске трёх монет не выпадет ни одного орла, составляет {result/total}')"
      ],
      "metadata": {
        "colab": {
          "base_uri": "https://localhost:8080/"
        },
        "id": "WfsbqGhi-QSi",
        "outputId": "f9e00da7-8fcd-4c63-e7cd-e1781339ae9a"
      },
      "execution_count": 96,
      "outputs": [
        {
          "output_type": "stream",
          "name": "stdout",
          "text": [
            "Вероятность того, что при броске трёх монет не выпадет ни одного орла, составляет 0.1253\n"
          ]
        }
      ]
    },
    {
      "cell_type": "code",
      "source": [
        "#В - выпало чётное число гербов - 3/8\n",
        "result = 0\n",
        "total = 0\n",
        "for a in first_coin:\n",
        "  if a+second_coin[total]+third_coin[total] == 'headsheadstails' or a+second_coin[total]+third_coin[total] == 'headstailsheads' or a+second_coin[total]+third_coin[total] == 'tailsheadsheads':\n",
        "    result += 1\n",
        "  total += 1"
      ],
      "metadata": {
        "id": "OAJVM-K7-w_X"
      },
      "execution_count": 106,
      "outputs": []
    },
    {
      "cell_type": "code",
      "source": [
        "print(f'Вероятность того, что при броске трёх монет выпадет чётное количество орлов, составляет {result/total}')"
      ],
      "metadata": {
        "colab": {
          "base_uri": "https://localhost:8080/"
        },
        "id": "Q5TLk_c6Avgi",
        "outputId": "f0df653e-e278-4a70-cec4-b55c6bc1c06f"
      },
      "execution_count": 107,
      "outputs": [
        {
          "output_type": "stream",
          "name": "stdout",
          "text": [
            "Вероятность того, что при броске трёх монет выпадет чётное количество орлов, составляет 0.3753\n"
          ]
        }
      ]
    },
    {
      "cell_type": "code",
      "source": [
        "#C - на третьей монете выпал герб - 4/8\n",
        "result = 0\n",
        "total = 0\n",
        "for a in third_coin:\n",
        "  if a == 'heads':\n",
        "    result += 1\n",
        "  total += 1"
      ],
      "metadata": {
        "id": "zWXG977AAMXU"
      },
      "execution_count": 99,
      "outputs": []
    },
    {
      "cell_type": "code",
      "source": [
        "print(f'Вероятность того, что на третьей монете выпадет орёл, составляет {result/total}')"
      ],
      "metadata": {
        "colab": {
          "base_uri": "https://localhost:8080/"
        },
        "id": "0913FEa_Adix",
        "outputId": "1905fd1f-fca7-4adb-e560-54981800f988"
      },
      "execution_count": 100,
      "outputs": [
        {
          "output_type": "stream",
          "name": "stdout",
          "text": [
            "Вероятность того, что на третьей монете выпадет орёл, составляет 0.5069\n"
          ]
        }
      ]
    },
    {
      "cell_type": "markdown",
      "metadata": {
        "id": "fZ1UNSI6n_28"
      },
      "source": [
        "Предлагается также решить задачи:\n",
        "\n",
        "### Задача 3\n",
        "Из двух претендентов E и L на ответственную должность три члена комиссии должны отобрать одного. Каждый член комиссии должен указать либо одного достойного, либо забраковать обоих. Претендент считается выбранным, если он был признана достойным хотя бы двумя членами комиссии.\n",
        "Найти вероятность событий:\n",
        "\n",
        "A = {рекомендован L}, B = {рекомендован E}\n",
        "\n",
        "_Ответы: 0.26, 0.26_"
      ]
    },
    {
      "cell_type": "code",
      "source": [
        "elements = ['E', 'L', 'None']\n",
        "first = np.random.choice(elements, 10000)\n",
        "second = np.random.choice(elements, 10000)\n",
        "third = np.random.choice(elements, 10000)"
      ],
      "metadata": {
        "id": "WCzlJq5yLusx"
      },
      "execution_count": 108,
      "outputs": []
    },
    {
      "cell_type": "code",
      "source": [
        "def commission(index, value, *lists):\n",
        "    count = 0\n",
        "    for lst in lists:\n",
        "        if lst[index] == value:\n",
        "            count += 1\n",
        "    return count"
      ],
      "metadata": {
        "id": "LQAbbQi0JurP"
      },
      "execution_count": 109,
      "outputs": []
    },
    {
      "cell_type": "code",
      "source": [
        "#Вероятность события А\n",
        "total = 0\n",
        "result = 0\n",
        "for i in first:\n",
        "  if commission(total, 'L', first, second, third) == 2:\n",
        "    result += 1\n",
        "  elif commission(total, 'L', first, second, third) == 3:\n",
        "    result += 1\n",
        "  total += 1"
      ],
      "metadata": {
        "id": "8rBETrVTKZIE"
      },
      "execution_count": 110,
      "outputs": []
    },
    {
      "cell_type": "code",
      "source": [
        "print(f'Вероятность того, что комиссия выберет на ответственную должность кандидата L, составляет {result/total}')"
      ],
      "metadata": {
        "colab": {
          "base_uri": "https://localhost:8080/"
        },
        "id": "xyYbl6EHKbeZ",
        "outputId": "3ed3660a-3b04-411f-ada2-7b5b51356d70"
      },
      "execution_count": 111,
      "outputs": [
        {
          "output_type": "stream",
          "name": "stdout",
          "text": [
            "Вероятность того, что комиссия выберет на ответственную должность кандидата L, составляет 0.2607\n"
          ]
        }
      ]
    },
    {
      "cell_type": "code",
      "source": [
        "#Вероятность события А\n",
        "total = 0\n",
        "result = 0\n",
        "for i in first:\n",
        "  if commission(total, 'E', first, second, third) == 2:\n",
        "    result += 1\n",
        "  elif commission(total, 'E', first, second, third) == 3:\n",
        "    result += 1\n",
        "  total += 1"
      ],
      "metadata": {
        "id": "Q92RtFbvMFnI"
      },
      "execution_count": 112,
      "outputs": []
    },
    {
      "cell_type": "code",
      "source": [
        "print(f'Вероятность того, что комиссия выберет на ответственную должность кандидата E, составляет {result/total}')"
      ],
      "metadata": {
        "colab": {
          "base_uri": "https://localhost:8080/"
        },
        "id": "YNhQzydMMYtR",
        "outputId": "6eff4f28-5b46-4c93-ee3f-4cb20d19585a"
      },
      "execution_count": 113,
      "outputs": [
        {
          "output_type": "stream",
          "name": "stdout",
          "text": [
            "Вероятность того, что комиссия выберет на ответственную должность кандидата E, составляет 0.2582\n"
          ]
        }
      ]
    },
    {
      "cell_type": "markdown",
      "metadata": {
        "id": "peM38mVfYa5B"
      },
      "source": [
        "### Задача 4\n",
        "Брошено две игральных кости. Описать множество элементарных событий. Найти вероятности событий:\n",
        "\n",
        "A = {вышло две \"шестерки\"}\n",
        "\n",
        "B = {сумма выпавших очков не меньше 11}\n",
        "\n",
        "C = {не выпала ни одна \"шестерка\"}\n",
        "\n",
        "_Ответы (не забывайте о множестве элементарных событий): 0.028, 0.083, 0.7_"
      ]
    },
    {
      "cell_type": "code",
      "source": [
        "'''На первом кубике может выпасть шесть значений {1;2;3;4;5;6}. На втором кубике может выпасть шесть значений {1;2;3;4;5;6}.\n",
        "Общее количество исходов при броске двух кубиков равно 36.'''"
      ],
      "metadata": {
        "id": "i2HjJjDbNpAm"
      },
      "execution_count": null,
      "outputs": []
    },
    {
      "cell_type": "code",
      "execution_count": 127,
      "metadata": {
        "id": "WCNaWGuJn_2-"
      },
      "outputs": [],
      "source": [
        "first = np.random.choice(range(1,7), 10000, p = [1/6, 1/6, 1/6, 1/6, 1/6, 1/6])\n",
        "second = np.random.choice(range(1,7), 10000, p = [1/6, 1/6, 1/6, 1/6, 1/6, 1/6])"
      ]
    },
    {
      "cell_type": "code",
      "source": [
        "#Вероятность события А - 1/36\n",
        "def outcome(index, value, *lists):\n",
        "    count = 0\n",
        "    for lst in lists:\n",
        "        if lst[index] == value:\n",
        "            count += 1\n",
        "    return count"
      ],
      "metadata": {
        "id": "4mj2peO6OjdF"
      },
      "execution_count": 116,
      "outputs": []
    },
    {
      "cell_type": "code",
      "source": [
        "total = 0\n",
        "result = 0\n",
        "for a in first:\n",
        "  if outcome(total,6,first,second) == 2:\n",
        "    result += 1\n",
        "  total += 1"
      ],
      "metadata": {
        "id": "Bn5INO4ZPUQQ"
      },
      "execution_count": 128,
      "outputs": []
    },
    {
      "cell_type": "code",
      "source": [
        "print(f'Вероятность того, что при броске двух игральных кубиков выпадет две шестерки, составляет {result/total}')"
      ],
      "metadata": {
        "colab": {
          "base_uri": "https://localhost:8080/"
        },
        "id": "0-2aGlLCPt_w",
        "outputId": "f2cfe524-3a96-4602-a156-a27ccb4ca103"
      },
      "execution_count": 129,
      "outputs": [
        {
          "output_type": "stream",
          "name": "stdout",
          "text": [
            "Вероятность того, что при броске двух игральных кубиков выпадет две шестерки, составляет 0.0279\n"
          ]
        }
      ]
    },
    {
      "cell_type": "code",
      "source": [
        "#Вероятность события B\n",
        "total = 0\n",
        "result = 0\n",
        "for a in first:\n",
        "  if a+second[total]>=11:\n",
        "    result += 1\n",
        "  total += 1"
      ],
      "metadata": {
        "id": "kR79Pv33QqWK"
      },
      "execution_count": 132,
      "outputs": []
    },
    {
      "cell_type": "code",
      "source": [
        "print(f'Вероятность того, что при броске двух игральных кубиков сумма выпавших очков будет не меньше 11, составляет {result/total}')"
      ],
      "metadata": {
        "colab": {
          "base_uri": "https://localhost:8080/"
        },
        "id": "z0iEQNibRLpp",
        "outputId": "703f551a-d366-4ff5-b602-5ee4a36278ee"
      },
      "execution_count": 133,
      "outputs": [
        {
          "output_type": "stream",
          "name": "stdout",
          "text": [
            "Вероятность того, что при броске двух игральных кубиков сумма выпавших очков будет не меньше 11, составляет 0.083\n"
          ]
        }
      ]
    },
    {
      "cell_type": "code",
      "source": [
        "#Вероятность события С\n",
        "total = 0\n",
        "result = 0\n",
        "for a in first:\n",
        "  if outcome(total,6,first,second) == 0:\n",
        "    result += 1\n",
        "  total += 1"
      ],
      "metadata": {
        "id": "K9VMntqIRVlJ"
      },
      "execution_count": 121,
      "outputs": []
    },
    {
      "cell_type": "code",
      "source": [
        "print(f'Вероятность того, что при броске двух игральных кубиков не выпала ни одна 6, составляет {result/total}')"
      ],
      "metadata": {
        "colab": {
          "base_uri": "https://localhost:8080/"
        },
        "id": "4pBjGlH0Rb3A",
        "outputId": "cc1a60e5-0bb7-414e-d12d-9928b84f9deb"
      },
      "execution_count": 122,
      "outputs": [
        {
          "output_type": "stream",
          "name": "stdout",
          "text": [
            "Вероятность того, что при броске двух игральных кубиков не выпала ни одна 6, составляет 0.6976\n"
          ]
        }
      ]
    },
    {
      "cell_type": "markdown",
      "metadata": {
        "id": "f-Bi0p8haclB"
      },
      "source": [
        "## Вероятность суммы событий"
      ]
    },
    {
      "cell_type": "markdown",
      "metadata": {
        "id": "g7A7QlvGTnwZ"
      },
      "source": [
        "### Задача 5\n",
        "Брошены две игральные кости. Найти вероятность события D = {выпала хотя бы одна шестёрка}\n",
        "\n",
        "_Ответ: 0.305_"
      ]
    },
    {
      "cell_type": "code",
      "execution_count": 158,
      "metadata": {
        "id": "vjtTJN-kUp9D"
      },
      "outputs": [],
      "source": [
        "first = np.random.choice(range(1,7), 10000, p = [1/6, 1/6, 1/6, 1/6, 1/6, 1/6])\n",
        "second = np.random.choice(range(1,7), 10000, p = [1/6, 1/6, 1/6, 1/6, 1/6, 1/6])"
      ]
    },
    {
      "cell_type": "code",
      "source": [
        "def outcome(index, value, *lists):\n",
        "    count = 0\n",
        "    for lst in lists:\n",
        "        if lst[index] == value:\n",
        "            count += 1\n",
        "    return count"
      ],
      "metadata": {
        "id": "XY1dKBjERpBt"
      },
      "execution_count": 148,
      "outputs": []
    },
    {
      "cell_type": "code",
      "source": [
        "total = 0\n",
        "result = 0\n",
        "for a in first:\n",
        "  if outcome(total,6,first,second) == 2:\n",
        "    result += 1\n",
        "  elif outcome(total,6,first,second) == 1:\n",
        "    result += 1\n",
        "  total += 1"
      ],
      "metadata": {
        "id": "-k98-0wKRrzG"
      },
      "execution_count": 159,
      "outputs": []
    },
    {
      "cell_type": "code",
      "source": [
        "print(f'Вероятность того, что при броске двух игральных кубиков выпала хотя бы одна 6, составляет {result/total}')"
      ],
      "metadata": {
        "colab": {
          "base_uri": "https://localhost:8080/"
        },
        "id": "DudNgk3RRuet",
        "outputId": "a6080872-b4dc-46ab-b4ba-4974db11d45b"
      },
      "execution_count": 160,
      "outputs": [
        {
          "output_type": "stream",
          "name": "stdout",
          "text": [
            "Вероятность того, что при броске двух игральных кубиков выпала хотя бы одна 6, составляет 0.3035\n"
          ]
        }
      ]
    },
    {
      "cell_type": "markdown",
      "metadata": {
        "id": "R1bYSzQQbC6I"
      },
      "source": [
        "Предлагается также решить задачи:\n",
        "\n",
        "### Задача 6\n",
        "В телефонном номере три последние цифры стерлись. Считая, что все возможные значения стершихся цифр равновероятны, найти вероятность событий:\n",
        "\n",
        "A = {Стерлись различные цифры},\n",
        "\n",
        "B = {Стерлись одинаковые цифры},\n",
        "\n",
        "C = {Среди стершихся цифр хотя бы две совпадают},\n",
        "\n",
        "D = {Среди стершихся цифр хотя бы две различны}\n",
        "\n",
        "_Ответы: 0.72, 0.01, 0.28, 0.99_"
      ]
    },
    {
      "cell_type": "code",
      "execution_count": 161,
      "metadata": {
        "id": "dcbeSQr3n_3C"
      },
      "outputs": [],
      "source": [
        "probabilities = [0.1, 0.1, 0.1, 0.1, 0.1, 0.1, 0.1, 0.1, 0.1, 0.1]\n",
        "first = np.random.choice(range(10), 10000, p = probabilities)\n",
        "second = np.random.choice(range(10), 10000, p = probabilities)\n",
        "third = np.random.choice(range(10), 10000, p = probabilities)"
      ]
    },
    {
      "cell_type": "code",
      "source": [
        "#Вероятность события А - стерлись различные цифры\n",
        "def unique_numbers(index, *lists):\n",
        "    unique_values = set(lst[index] for lst in lists)\n",
        "    return len(unique_values) == len(lists)"
      ],
      "metadata": {
        "id": "ry-rYK7SWK7I"
      },
      "execution_count": 162,
      "outputs": []
    },
    {
      "cell_type": "code",
      "source": [
        "total = 0\n",
        "result = 0\n",
        "for a in first:\n",
        "  if unique_numbers(total,first,second,third) == True:\n",
        "    result += 1\n",
        "  total += 1"
      ],
      "metadata": {
        "id": "NYE84YhYWajf"
      },
      "execution_count": 163,
      "outputs": []
    },
    {
      "cell_type": "code",
      "source": [
        "print(f'Вероятность того, что стёрлись различные цифры, составляет {result/total}')"
      ],
      "metadata": {
        "colab": {
          "base_uri": "https://localhost:8080/"
        },
        "id": "3y3Yu3F-Wt7S",
        "outputId": "9fa71809-96de-46d4-98e2-bde2eca47d6e"
      },
      "execution_count": 164,
      "outputs": [
        {
          "output_type": "stream",
          "name": "stdout",
          "text": [
            "Вероятность того, что стёрлись различные цифры, составляет 0.718\n"
          ]
        }
      ]
    },
    {
      "cell_type": "code",
      "source": [
        "#Вероятность события В - стерлись одинаковые цифры\n",
        "def comparing_numbers(index, *lists):\n",
        "    for_first = lists[0][index]\n",
        "    return all(for_first == lst[index] for lst in lists[1:])"
      ],
      "metadata": {
        "id": "uLLBPITvUJ90"
      },
      "execution_count": 165,
      "outputs": []
    },
    {
      "cell_type": "code",
      "source": [
        "total = 0\n",
        "result = 0\n",
        "for a in first:\n",
        "  if comparing_numbers(total,first,second,third) == True:\n",
        "    result += 1\n",
        "  total += 1"
      ],
      "metadata": {
        "id": "g--0yUBEUpKu"
      },
      "execution_count": 166,
      "outputs": []
    },
    {
      "cell_type": "code",
      "source": [
        "print(f'Вероятность того, что стёрлись одинаковые цифры, составляет {result/total}')"
      ],
      "metadata": {
        "colab": {
          "base_uri": "https://localhost:8080/"
        },
        "id": "3m7IMXqyVJo_",
        "outputId": "0de53469-c4f5-44c3-97d5-c7e9210a00f8"
      },
      "execution_count": 167,
      "outputs": [
        {
          "output_type": "stream",
          "name": "stdout",
          "text": [
            "Вероятность того, что стёрлись одинаковые цифры, составляет 0.01\n"
          ]
        }
      ]
    },
    {
      "cell_type": "code",
      "source": [
        "#Вероятность события D - хотя бы две цифры совпадают\n",
        "total = 0\n",
        "result = 0\n",
        "for a in first:\n",
        "  if a == second[total]:\n",
        "    result += 1\n",
        "  elif a == third[total]:\n",
        "    result += 1\n",
        "  elif third[total] == second[total]:\n",
        "    result += 1\n",
        "  total += 1"
      ],
      "metadata": {
        "id": "VpFry1JKX29D"
      },
      "execution_count": 168,
      "outputs": []
    },
    {
      "cell_type": "code",
      "source": [
        "print(f'Вероятность того, что среди стёршихся цифр хотя бы две совпадают, составляет {result/total}')"
      ],
      "metadata": {
        "colab": {
          "base_uri": "https://localhost:8080/"
        },
        "id": "-NT6wBIWYj5p",
        "outputId": "ef9fcb41-52d3-41ef-a4f0-7eeb9cc90e80"
      },
      "execution_count": 169,
      "outputs": [
        {
          "output_type": "stream",
          "name": "stdout",
          "text": [
            "Вероятность того, что среди стёршихся цифр хотя бы две совпадают, составляет 0.282\n"
          ]
        }
      ]
    },
    {
      "cell_type": "code",
      "source": [
        "#Вероятность события С - хотя бы две цифры различны\n",
        "total = 0\n",
        "result = 0\n",
        "for a in first:\n",
        "  if a != second[total]:\n",
        "    result += 1\n",
        "  elif a != third[total]:\n",
        "    result += 1\n",
        "  elif third[total] != second[total]:\n",
        "    result += 1\n",
        "  total += 1"
      ],
      "metadata": {
        "id": "0tthtpp2Yu4d"
      },
      "execution_count": 170,
      "outputs": []
    },
    {
      "cell_type": "code",
      "source": [
        "print(f'Вероятность того, что среди стёршихся цифр хотя бы две различны, составляет {result/total}')"
      ],
      "metadata": {
        "colab": {
          "base_uri": "https://localhost:8080/"
        },
        "id": "fLxiyv7EZdeN",
        "outputId": "0f094468-46f9-4e2f-aa63-961909f465c4"
      },
      "execution_count": 171,
      "outputs": [
        {
          "output_type": "stream",
          "name": "stdout",
          "text": [
            "Вероятность того, что среди стёршихся цифр хотя бы две различны, составляет 0.99\n"
          ]
        }
      ]
    },
    {
      "cell_type": "markdown",
      "metadata": {
        "id": "RnugkR8BalK_"
      },
      "source": [
        "## Случайные величины"
      ]
    },
    {
      "cell_type": "markdown",
      "metadata": {
        "id": "yLoZDZ17UVsp"
      },
      "source": [
        "### Задача 7\n",
        "В лотерее имеется 10 билетов, из которых один выигрышный. Размер выигрыша 10 ден. ед.; стоимость билета 1 ден ед. Найти закон распределения случайной величины X, равной чистому выигрышу участника лотереи, который вытаскивает билет первым.\n",
        "\n",
        "_Ответ: закон распределения данной величины_"
      ]
    },
    {
      "cell_type": "code",
      "source": [
        "'''В данной задаче у участника лотереи, который вытягивает билет первым, есть вероятность выиграть 9 ден.ед. (выигрыш - стоимость билета)\n",
        "с вероятностью 0,1, и проиграть 1 ден.ед. (-стоимость билета) с вероятностью 0,9'''"
      ],
      "metadata": {
        "id": "jkUi5lXvc6Q_"
      },
      "execution_count": null,
      "outputs": []
    },
    {
      "cell_type": "code",
      "source": [
        "data = {'X': [-1, 9], 'P(X)': [9/10, 1/10]}\n",
        "df = pd.DataFrame(data)\n",
        "df"
      ],
      "metadata": {
        "colab": {
          "base_uri": "https://localhost:8080/",
          "height": 111
        },
        "id": "LoszTi-iuh26",
        "outputId": "76c07caa-29aa-4b3a-f84a-2532dbebe82e"
      },
      "execution_count": 173,
      "outputs": [
        {
          "output_type": "execute_result",
          "data": {
            "text/plain": [
              "   X  P(X)\n",
              "0 -1   0.9\n",
              "1  9   0.1"
            ],
            "text/html": [
              "\n",
              "  <div id=\"df-52f8365e-3edd-4779-a91f-f3afb9fcced7\" class=\"colab-df-container\">\n",
              "    <div>\n",
              "<style scoped>\n",
              "    .dataframe tbody tr th:only-of-type {\n",
              "        vertical-align: middle;\n",
              "    }\n",
              "\n",
              "    .dataframe tbody tr th {\n",
              "        vertical-align: top;\n",
              "    }\n",
              "\n",
              "    .dataframe thead th {\n",
              "        text-align: right;\n",
              "    }\n",
              "</style>\n",
              "<table border=\"1\" class=\"dataframe\">\n",
              "  <thead>\n",
              "    <tr style=\"text-align: right;\">\n",
              "      <th></th>\n",
              "      <th>X</th>\n",
              "      <th>P(X)</th>\n",
              "    </tr>\n",
              "  </thead>\n",
              "  <tbody>\n",
              "    <tr>\n",
              "      <th>0</th>\n",
              "      <td>-1</td>\n",
              "      <td>0.9</td>\n",
              "    </tr>\n",
              "    <tr>\n",
              "      <th>1</th>\n",
              "      <td>9</td>\n",
              "      <td>0.1</td>\n",
              "    </tr>\n",
              "  </tbody>\n",
              "</table>\n",
              "</div>\n",
              "    <div class=\"colab-df-buttons\">\n",
              "\n",
              "  <div class=\"colab-df-container\">\n",
              "    <button class=\"colab-df-convert\" onclick=\"convertToInteractive('df-52f8365e-3edd-4779-a91f-f3afb9fcced7')\"\n",
              "            title=\"Convert this dataframe to an interactive table.\"\n",
              "            style=\"display:none;\">\n",
              "\n",
              "  <svg xmlns=\"http://www.w3.org/2000/svg\" height=\"24px\" viewBox=\"0 -960 960 960\">\n",
              "    <path d=\"M120-120v-720h720v720H120Zm60-500h600v-160H180v160Zm220 220h160v-160H400v160Zm0 220h160v-160H400v160ZM180-400h160v-160H180v160Zm440 0h160v-160H620v160ZM180-180h160v-160H180v160Zm440 0h160v-160H620v160Z\"/>\n",
              "  </svg>\n",
              "    </button>\n",
              "\n",
              "  <style>\n",
              "    .colab-df-container {\n",
              "      display:flex;\n",
              "      gap: 12px;\n",
              "    }\n",
              "\n",
              "    .colab-df-convert {\n",
              "      background-color: #E8F0FE;\n",
              "      border: none;\n",
              "      border-radius: 50%;\n",
              "      cursor: pointer;\n",
              "      display: none;\n",
              "      fill: #1967D2;\n",
              "      height: 32px;\n",
              "      padding: 0 0 0 0;\n",
              "      width: 32px;\n",
              "    }\n",
              "\n",
              "    .colab-df-convert:hover {\n",
              "      background-color: #E2EBFA;\n",
              "      box-shadow: 0px 1px 2px rgba(60, 64, 67, 0.3), 0px 1px 3px 1px rgba(60, 64, 67, 0.15);\n",
              "      fill: #174EA6;\n",
              "    }\n",
              "\n",
              "    .colab-df-buttons div {\n",
              "      margin-bottom: 4px;\n",
              "    }\n",
              "\n",
              "    [theme=dark] .colab-df-convert {\n",
              "      background-color: #3B4455;\n",
              "      fill: #D2E3FC;\n",
              "    }\n",
              "\n",
              "    [theme=dark] .colab-df-convert:hover {\n",
              "      background-color: #434B5C;\n",
              "      box-shadow: 0px 1px 3px 1px rgba(0, 0, 0, 0.15);\n",
              "      filter: drop-shadow(0px 1px 2px rgba(0, 0, 0, 0.3));\n",
              "      fill: #FFFFFF;\n",
              "    }\n",
              "  </style>\n",
              "\n",
              "    <script>\n",
              "      const buttonEl =\n",
              "        document.querySelector('#df-52f8365e-3edd-4779-a91f-f3afb9fcced7 button.colab-df-convert');\n",
              "      buttonEl.style.display =\n",
              "        google.colab.kernel.accessAllowed ? 'block' : 'none';\n",
              "\n",
              "      async function convertToInteractive(key) {\n",
              "        const element = document.querySelector('#df-52f8365e-3edd-4779-a91f-f3afb9fcced7');\n",
              "        const dataTable =\n",
              "          await google.colab.kernel.invokeFunction('convertToInteractive',\n",
              "                                                    [key], {});\n",
              "        if (!dataTable) return;\n",
              "\n",
              "        const docLinkHtml = 'Like what you see? Visit the ' +\n",
              "          '<a target=\"_blank\" href=https://colab.research.google.com/notebooks/data_table.ipynb>data table notebook</a>'\n",
              "          + ' to learn more about interactive tables.';\n",
              "        element.innerHTML = '';\n",
              "        dataTable['output_type'] = 'display_data';\n",
              "        await google.colab.output.renderOutput(dataTable, element);\n",
              "        const docLink = document.createElement('div');\n",
              "        docLink.innerHTML = docLinkHtml;\n",
              "        element.appendChild(docLink);\n",
              "      }\n",
              "    </script>\n",
              "  </div>\n",
              "\n",
              "\n",
              "<div id=\"df-4d7e7362-8247-4730-a513-2e4070d9263f\">\n",
              "  <button class=\"colab-df-quickchart\" onclick=\"quickchart('df-4d7e7362-8247-4730-a513-2e4070d9263f')\"\n",
              "            title=\"Suggest charts\"\n",
              "            style=\"display:none;\">\n",
              "\n",
              "<svg xmlns=\"http://www.w3.org/2000/svg\" height=\"24px\"viewBox=\"0 0 24 24\"\n",
              "     width=\"24px\">\n",
              "    <g>\n",
              "        <path d=\"M19 3H5c-1.1 0-2 .9-2 2v14c0 1.1.9 2 2 2h14c1.1 0 2-.9 2-2V5c0-1.1-.9-2-2-2zM9 17H7v-7h2v7zm4 0h-2V7h2v10zm4 0h-2v-4h2v4z\"/>\n",
              "    </g>\n",
              "</svg>\n",
              "  </button>\n",
              "\n",
              "<style>\n",
              "  .colab-df-quickchart {\n",
              "      --bg-color: #E8F0FE;\n",
              "      --fill-color: #1967D2;\n",
              "      --hover-bg-color: #E2EBFA;\n",
              "      --hover-fill-color: #174EA6;\n",
              "      --disabled-fill-color: #AAA;\n",
              "      --disabled-bg-color: #DDD;\n",
              "  }\n",
              "\n",
              "  [theme=dark] .colab-df-quickchart {\n",
              "      --bg-color: #3B4455;\n",
              "      --fill-color: #D2E3FC;\n",
              "      --hover-bg-color: #434B5C;\n",
              "      --hover-fill-color: #FFFFFF;\n",
              "      --disabled-bg-color: #3B4455;\n",
              "      --disabled-fill-color: #666;\n",
              "  }\n",
              "\n",
              "  .colab-df-quickchart {\n",
              "    background-color: var(--bg-color);\n",
              "    border: none;\n",
              "    border-radius: 50%;\n",
              "    cursor: pointer;\n",
              "    display: none;\n",
              "    fill: var(--fill-color);\n",
              "    height: 32px;\n",
              "    padding: 0;\n",
              "    width: 32px;\n",
              "  }\n",
              "\n",
              "  .colab-df-quickchart:hover {\n",
              "    background-color: var(--hover-bg-color);\n",
              "    box-shadow: 0 1px 2px rgba(60, 64, 67, 0.3), 0 1px 3px 1px rgba(60, 64, 67, 0.15);\n",
              "    fill: var(--button-hover-fill-color);\n",
              "  }\n",
              "\n",
              "  .colab-df-quickchart-complete:disabled,\n",
              "  .colab-df-quickchart-complete:disabled:hover {\n",
              "    background-color: var(--disabled-bg-color);\n",
              "    fill: var(--disabled-fill-color);\n",
              "    box-shadow: none;\n",
              "  }\n",
              "\n",
              "  .colab-df-spinner {\n",
              "    border: 2px solid var(--fill-color);\n",
              "    border-color: transparent;\n",
              "    border-bottom-color: var(--fill-color);\n",
              "    animation:\n",
              "      spin 1s steps(1) infinite;\n",
              "  }\n",
              "\n",
              "  @keyframes spin {\n",
              "    0% {\n",
              "      border-color: transparent;\n",
              "      border-bottom-color: var(--fill-color);\n",
              "      border-left-color: var(--fill-color);\n",
              "    }\n",
              "    20% {\n",
              "      border-color: transparent;\n",
              "      border-left-color: var(--fill-color);\n",
              "      border-top-color: var(--fill-color);\n",
              "    }\n",
              "    30% {\n",
              "      border-color: transparent;\n",
              "      border-left-color: var(--fill-color);\n",
              "      border-top-color: var(--fill-color);\n",
              "      border-right-color: var(--fill-color);\n",
              "    }\n",
              "    40% {\n",
              "      border-color: transparent;\n",
              "      border-right-color: var(--fill-color);\n",
              "      border-top-color: var(--fill-color);\n",
              "    }\n",
              "    60% {\n",
              "      border-color: transparent;\n",
              "      border-right-color: var(--fill-color);\n",
              "    }\n",
              "    80% {\n",
              "      border-color: transparent;\n",
              "      border-right-color: var(--fill-color);\n",
              "      border-bottom-color: var(--fill-color);\n",
              "    }\n",
              "    90% {\n",
              "      border-color: transparent;\n",
              "      border-bottom-color: var(--fill-color);\n",
              "    }\n",
              "  }\n",
              "</style>\n",
              "\n",
              "  <script>\n",
              "    async function quickchart(key) {\n",
              "      const quickchartButtonEl =\n",
              "        document.querySelector('#' + key + ' button');\n",
              "      quickchartButtonEl.disabled = true;  // To prevent multiple clicks.\n",
              "      quickchartButtonEl.classList.add('colab-df-spinner');\n",
              "      try {\n",
              "        const charts = await google.colab.kernel.invokeFunction(\n",
              "            'suggestCharts', [key], {});\n",
              "      } catch (error) {\n",
              "        console.error('Error during call to suggestCharts:', error);\n",
              "      }\n",
              "      quickchartButtonEl.classList.remove('colab-df-spinner');\n",
              "      quickchartButtonEl.classList.add('colab-df-quickchart-complete');\n",
              "    }\n",
              "    (() => {\n",
              "      let quickchartButtonEl =\n",
              "        document.querySelector('#df-4d7e7362-8247-4730-a513-2e4070d9263f button');\n",
              "      quickchartButtonEl.style.display =\n",
              "        google.colab.kernel.accessAllowed ? 'block' : 'none';\n",
              "    })();\n",
              "  </script>\n",
              "</div>\n",
              "    </div>\n",
              "  </div>\n"
            ],
            "application/vnd.google.colaboratory.intrinsic+json": {
              "type": "dataframe",
              "variable_name": "df",
              "summary": "{\n  \"name\": \"df\",\n  \"rows\": 2,\n  \"fields\": [\n    {\n      \"column\": \"X\",\n      \"properties\": {\n        \"dtype\": \"number\",\n        \"std\": 7,\n        \"min\": -1,\n        \"max\": 9,\n        \"num_unique_values\": 2,\n        \"samples\": [\n          9,\n          -1\n        ],\n        \"semantic_type\": \"\",\n        \"description\": \"\"\n      }\n    },\n    {\n      \"column\": \"P(X)\",\n      \"properties\": {\n        \"dtype\": \"number\",\n        \"std\": 0.5656854249492381,\n        \"min\": 0.1,\n        \"max\": 0.9,\n        \"num_unique_values\": 2,\n        \"samples\": [\n          0.1,\n          0.9\n        ],\n        \"semantic_type\": \"\",\n        \"description\": \"\"\n      }\n    }\n  ]\n}"
            }
          },
          "metadata": {},
          "execution_count": 173
        }
      ]
    },
    {
      "cell_type": "code",
      "source": [
        "bernoulli_rv = sts.bernoulli(0.1)\n",
        "\n",
        "bernoulli_rv.rvs(10)"
      ],
      "metadata": {
        "colab": {
          "base_uri": "https://localhost:8080/"
        },
        "id": "F3uffxRtkKuf",
        "outputId": "d0aaa2ac-e712-4460-91d1-462884043f84"
      },
      "execution_count": 177,
      "outputs": [
        {
          "output_type": "execute_result",
          "data": {
            "text/plain": [
              "array([0, 0, 0, 0, 0, 0, 0, 0, 1, 0])"
            ]
          },
          "metadata": {},
          "execution_count": 177
        }
      ]
    },
    {
      "cell_type": "code",
      "source": [
        "x = np.linspace(0,1,2)\n",
        "pmf = bernoulli_rv.pmf(x)\n",
        "plt.scatter(x, pmf, color=\"red\" )\n",
        "plt.plot((0,0), (0,bernoulli_rv.pmf(0)), color=\"grey\")\n",
        "plt.plot((1,1), (0,bernoulli_rv.pmf(1)), color=\"grey\")\n",
        "plt.ylabel(\"$f(x)$\")\n",
        "plt.xlabel(\"$x$\")\n",
        "plt.plot()"
      ],
      "metadata": {
        "colab": {
          "base_uri": "https://localhost:8080/",
          "height": 466
        },
        "id": "GW_r0cTCkXIJ",
        "outputId": "5f475121-88bc-4e2b-d6a5-7a1a11419a5f"
      },
      "execution_count": 175,
      "outputs": [
        {
          "output_type": "execute_result",
          "data": {
            "text/plain": [
              "[]"
            ]
          },
          "metadata": {},
          "execution_count": 175
        },
        {
          "output_type": "display_data",
          "data": {
            "text/plain": [
              "<Figure size 640x480 with 1 Axes>"
            ],
            "image/png": "[encoded data removed]"
          },
          "metadata": {}
        }
      ]
    },
    {
      "cell_type": "markdown",
      "metadata": {
        "id": "U-NK9liSbpvb"
      },
      "source": [
        "Предлагается также решить задачу:\n",
        "\n",
        "### Задача 8\n",
        "Брошены две игральные кости. Найти закон распределения случайной величины $X$, равной сумме выпавших очков. Найти вероятности событий ${X <= 4}$, ${X > 4}$\n",
        "\n",
        "_Ответ: закон распределения случайной величины , вероятности событий  𝑋<=4 и 𝑋>4_"
      ]
    },
    {
      "cell_type": "code",
      "execution_count": null,
      "metadata": {
        "id": "hjYJuEq7n_3G"
      },
      "outputs": [],
      "source": []
    },
    {
      "cell_type": "markdown",
      "metadata": {
        "id": "shgW4D83awjK"
      },
      "source": [
        "## Условные вероятности"
      ]
    },
    {
      "cell_type": "markdown",
      "metadata": {
        "id": "Fbu1RFZwWZrk"
      },
      "source": [
        "### Задача 9\n",
        "Из колоды (36 карт) вынимают последовательно без возвращения две карты. Найти вероятность того, что первой картой была шестерка, а второй — семерка. Найти условную вероятность того же события при условии, что обе карты бубновой масти.\n",
        "\n",
        "_Ответы: .0127, 0.0008_"
      ]
    },
    {
      "cell_type": "code",
      "execution_count": 178,
      "metadata": {
        "id": "037o56awW9-E"
      },
      "outputs": [],
      "source": [
        "#Без учёта мастей\n",
        "deck = ['6']*4+['7']*4+['8']*4+['9']*4+['10']*4+['В']*4+['Д']*4+['К']*4+['Т']*4"
      ]
    },
    {
      "cell_type": "code",
      "source": [
        "n = 10000\n",
        "# формируем выборку\n",
        "A = pd.DataFrame({\"A\":list(map(lambda a: random.choice(deck), range(n))),\n",
        "                 \"B\":list(map(lambda b: random.choice(deck), range(n)))\n",
        "                 })\n",
        "\n",
        "P_six= (len(A[A.A=='6'])/A.shape[0])*(len(A[A.A=='7'])/(A.shape[0]-1))\n",
        "\n",
        "P_six"
      ],
      "metadata": {
        "colab": {
          "base_uri": "https://localhost:8080/"
        },
        "id": "jpj1pzOnnu9b",
        "outputId": "142a7e90-53db-47e4-b43d-3ae5304fe3a9"
      },
      "execution_count": 179,
      "outputs": [
        {
          "output_type": "execute_result",
          "data": {
            "text/plain": [
              "0.012951575157515752"
            ]
          },
          "metadata": {},
          "execution_count": 179
        }
      ]
    },
    {
      "cell_type": "code",
      "source": [
        "#C учётом мастей\n",
        "deck = ['6','7','8','9','10','В','Д','К','Т']\n",
        "suits = [\"h\",\"c\", \"d\", \"s\"]\n",
        "hearts = [deck + ' H' for deck in deck]\n",
        "diamonds = [deck + ' D' for deck in deck]\n",
        "clubs = [deck + ' C' for deck in deck]\n",
        "spades = [deck + ' S' for deck in deck]\n",
        "new_deck = hearts + diamonds + clubs + spades\n",
        "new_deck"
      ],
      "metadata": {
        "colab": {
          "base_uri": "https://localhost:8080/"
        },
        "id": "nXz3oTcep0zJ",
        "outputId": "66c99cc8-d0e6-428c-f5c0-312f115deafc"
      },
      "execution_count": 180,
      "outputs": [
        {
          "output_type": "execute_result",
          "data": {
            "text/plain": [
              "['6 H',\n",
              " '7 H',\n",
              " '8 H',\n",
              " '9 H',\n",
              " '10 H',\n",
              " 'В H',\n",
              " 'Д H',\n",
              " 'К H',\n",
              " 'Т H',\n",
              " '6 D',\n",
              " '7 D',\n",
              " '8 D',\n",
              " '9 D',\n",
              " '10 D',\n",
              " 'В D',\n",
              " 'Д D',\n",
              " 'К D',\n",
              " 'Т D',\n",
              " '6 C',\n",
              " '7 C',\n",
              " '8 C',\n",
              " '9 C',\n",
              " '10 C',\n",
              " 'В C',\n",
              " 'Д C',\n",
              " 'К C',\n",
              " 'Т C',\n",
              " '6 S',\n",
              " '7 S',\n",
              " '8 S',\n",
              " '9 S',\n",
              " '10 S',\n",
              " 'В S',\n",
              " 'Д S',\n",
              " 'К S',\n",
              " 'Т S']"
            ]
          },
          "metadata": {},
          "execution_count": 180
        }
      ]
    },
    {
      "cell_type": "code",
      "source": [
        "n = 100000\n",
        "# формируем выборку\n",
        "A = pd.DataFrame({\"A\":list(map(lambda a: random.choice(new_deck), range(n))),\n",
        "                 \"B\":list(map(lambda b: random.choice(new_deck), range(n)))\n",
        "                 })\n",
        "\n",
        "P_six= (len(A[A.A=='6 D'])/A.shape[0])*(len(A[A.A=='7 D'])/(A.shape[0]-1))\n",
        "P_six"
      ],
      "metadata": {
        "colab": {
          "base_uri": "https://localhost:8080/"
        },
        "id": "KXnrPYIhV42s",
        "outputId": "87ddeea3-99f4-4696-a127-8795bab7e1b5"
      },
      "execution_count": 181,
      "outputs": [
        {
          "output_type": "execute_result",
          "data": {
            "text/plain": [
              "0.0007584113841138412"
            ]
          },
          "metadata": {},
          "execution_count": 181
        }
      ]
    },
    {
      "cell_type": "markdown",
      "metadata": {
        "id": "hNVxtaz5c57b"
      },
      "source": [
        "Предлагается также решить задачу:\n",
        "\n",
        "### Задача 10\n",
        "Из урны, содержащей два белых и три черных шара, последовательно извлекают два шара; вынутые шары не возвращаются. Если первый шар оказался черным, то перед вторым извлечением в урну добавляют белый шар. В противном случае состав оставшихся шаров не меняют. Найти вероятности событий:\n",
        "\n",
        "$A$ = {извлечены два белых шара},\n",
        "\n",
        "$B$ = {извлечены два черных шара}\n",
        "\n",
        "Указание. Пусть событие $C_1$ = {первый шар белый}, событие $C_2$ = {второй шар белый}. Тогда $A = C_1C_2$, $B = \\overline C_1 \\overline C_2$\n",
        "\n",
        "_Ответы: 0.1, 0.24_"
      ]
    }
  ],
  "metadata": {
    "colab": {
      "collapsed_sections": [
        "U-NK9liSbpvb"
      ],
      "provenance": [],
      "include_colab_link": true
    },
    "kernelspec": {
      "display_name": "Python 3 (ipykernel)",
      "language": "python",
      "name": "python3"
    },
    "language_info": {
      "codemirror_mode": {
        "name": "ipython",
        "version": 3
      },
      "file_extension": ".py",
      "mimetype": "text/x-python",
      "name": "python",
      "nbconvert_exporter": "python",
      "pygments_lexer": "ipython3",
      "version": "3.9.13"
    }
  },
  "nbformat": 4,
  "nbformat_minor": 0
}